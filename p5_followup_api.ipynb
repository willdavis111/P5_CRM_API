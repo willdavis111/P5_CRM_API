{
 "cells": [
  {
   "cell_type": "code",
   "execution_count": 48,
   "id": "24a07d65-0269-4417-a186-c1e7b3c2ee20",
   "metadata": {},
   "outputs": [],
   "source": [
    "import pandas as pd\n",
    "import numpy as np\n",
    "import datetime as dt\n",
    "from datetime import date\n",
    "import os\n",
    "import requests\n",
    "import json\n",
    "API_TOKEN  = "
   ]
  },
  {
   "cell_type": "code",
   "execution_count": 90,
   "id": "4ee5b3cd-a92d-4e0a-a80a-650cf87514a8",
   "metadata": {},
   "outputs": [],
   "source": [
    "# PUT requests to change the sales status of existiong jobs\n",
    "def update_sales_status(API_TOKEN, uuid, name, status):\n",
    "    url = f'https://app.followupcrm.com/api/v1/file-data/{uuid}'\n",
    "    params = {\n",
    "        'api_token': API_TOKEN,\n",
    "    }\n",
    "    payload =  {\n",
    "        'name': name,\n",
    "        \"external_id\": None,\n",
    "        \"external_vendor\": None,\n",
    "        \"sales_status\": status\n",
    "    }\n",
    "    response = requests.put(url, params=params, data = payload)\n",
    "    if response.status_code == 200:\n",
    "        json_data = response.json()\n",
    "        df = pd.json_normalize(json_data['data'])\n",
    "    else:\n",
    "        print(f\"Error {response.status_code}: {response.text}\")\n",
    "\n",
    "# PUT requests to change the contract date\n",
    "def update_contract_date(API_TOKEN, uuid, name, new_date):\n",
    "    url = f'https://app.followupcrm.com/api/v1/file-data/{uuid}'\n",
    "    params = {\n",
    "        'api_token': API_TOKEN,\n",
    "    }\n",
    "    payload =  {\n",
    "        'name': name,\n",
    "        \"external_id\": None,\n",
    "        \"external_vendor\": None,\n",
    "        'contract_date': new_date\n",
    "    }\n",
    "    response = requests.put(url, params=params, data = payload)\n",
    "    if response.status_code == 200:\n",
    "        json_data = response.json()\n",
    "        df = pd.json_normalize(json_data['data'])\n",
    "    else:\n",
    "        print(f\"Error {response.status_code}: {response.text}\")\n",
    "#creat df from data stored in followup\n",
    "def get_df(API_TOKEN, page):\n",
    "    # url = 'https://app.followupcrm.com/api/v1/file-data'\n",
    "    url = f'https://app.followupcrm.com/api/v1/file-data?page={page}'\n",
    "    params = {\n",
    "        'api_token': API_TOKEN,\n",
    "        'per_page': 15\n",
    "    }\n",
    "    response = requests.get(url, params=params)\n",
    "    if response.status_code == 200:\n",
    "        json_data = response.json()\n",
    "        df = pd.json_normalize(json_data['data'])\n",
    "        # print(len(df))\n",
    "        return df, json_data\n",
    "    else:\n",
    "        print(f\"Error {response.status_code}: {response.text}\")\n",
    "# creat and return a subset based on age of the bid and list of sales statuses \n",
    "def reduce_dataset(full_df, d_count, status_list):\n",
    "    full_df['bid_date'] = pd.to_datetime(full_df['bid_date'])\n",
    "    reduced = full_df[full_df['sales_status'].isin(status_list)]\n",
    "    reduced = reduced.assign(time_passed = lambda x: pd.Timestamp(date.today()) - x['bid_date'])\n",
    "    reduced['notify'] = reduced['time_passed'].apply(lambda y: 1 if y > pd.Timedelta(f'{d_count} days 00:00:00') else 0)\n",
    "    notify = reduced[reduced['notify'] == 1]\n",
    "    return notify\n",
    "# subset if specified column is NA \n",
    "def missing_value(full_df, field):\n",
    "    reduced = full_df[full_df[field].isna()]\n",
    "    return reduced\n",
    "  "
   ]
  },
  {
   "cell_type": "code",
   "execution_count": 80,
   "id": "bf5979cb-d620-4766-864f-58d7f162f08a",
   "metadata": {},
   "outputs": [
    {
     "name": "stdout",
     "output_type": "stream",
     "text": [
      "CPU times: total: 391 ms\n",
      "Wall time: 53.3 s\n"
     ]
    }
   ],
   "source": [
    "%%time \n",
    "df_list = []\n",
    "json = get_df(API_TOKEN, 1)[1]\n",
    "last_page = json['meta']['last_page']\n",
    "for i in range(1,last_page+1):\n",
    "    df_list.append(get_df(API_TOKEN, i)[0])\n",
    "# combine dfs\n",
    "full_df = pd.concat(df_list)"
   ]
  },
  {
   "cell_type": "code",
   "execution_count": 62,
   "id": "eb17237e-d2b4-4dda-aa95-6409f920d8a8",
   "metadata": {},
   "outputs": [],
   "source": [
    "# subsets to trigger notifications\n",
    "submits = reduce_dataset(full_df, '14', [\"Bidding\",\"New Lead\",\"Submitted\"])\n",
    "budgets = reduce_dataset(full_df, '90', [\"Budget\"])"
   ]
  },
  {
   "cell_type": "code",
   "execution_count": 94,
   "id": "8084ecaa-bf04-49be-a38b-08eee7deffa9",
   "metadata": {},
   "outputs": [],
   "source": [
    "no_bid_date = missing_value(full_df, 'bid_date')\n",
    "no_base_bid = missing_value(full_df, 'base_bid')"
   ]
  },
  {
   "cell_type": "code",
   "execution_count": 58,
   "id": "43baf89d-6c0b-4129-adc6-464a32f840f9",
   "metadata": {},
   "outputs": [
    {
     "name": "stdout",
     "output_type": "stream",
     "text": [
      "Submitted\n",
      "Submitted\n",
      "Submitted\n",
      "Submitted\n",
      "Submitted\n",
      "Submitted\n",
      "Submitted\n",
      "Submitted\n",
      "Submitted\n",
      "Submitted\n",
      "Submitted\n",
      "Submitted\n",
      "Submitted\n",
      "Bidding\n",
      "Bidding\n",
      "Submitted\n",
      "Submitted\n",
      "Submitted\n",
      "Submitted\n",
      "Submitted\n",
      "Submitted\n",
      "Submitted\n",
      "Submitted\n",
      "Submitted\n",
      "Submitted\n",
      "Submitted\n",
      "Bidding\n",
      "Bidding\n",
      "Submitted\n",
      "Submitted\n",
      "Submitted\n",
      "Submitted\n",
      "Submitted\n",
      "Submitted\n",
      "Submitted\n",
      "Submitted\n",
      "CPU times: total: 15.6 ms\n",
      "Wall time: 6.02 ms\n"
     ]
    }
   ],
   "source": [
    "# change subset to status update to notify people \n",
    "for ind in range(0,len(notify)):\n",
    "    current = notify.iloc[ind]\n",
    "    old_status = current['sales_status']\n",
    "    ## Change the sales status to \n",
    "    # update_sales_status(API_TOKEN, current['uuid'], current['name'], 'Budget Loss')\n",
    "    ## Change the sales status back # this might not work :(\n",
    "    # update_sales_status(API_TOKEN, current['uuid'], current['name'], old_status)\n",
    "    print(old_status)"
   ]
  },
  {
   "cell_type": "code",
   "execution_count": 32,
   "id": "c3b0725c-1798-4371-af0c-2fe3c43e101b",
   "metadata": {},
   "outputs": [],
   "source": [
    "update_sales_status(API_TOKEN,'b76cb886-bd27-410c-8979-cd3bde1f581a', 'API Test', 'Update Status')"
   ]
  },
  {
   "cell_type": "code",
   "execution_count": 31,
   "id": "437e6ef2-bf9b-4893-8574-892dae30a1ca",
   "metadata": {},
   "outputs": [],
   "source": [
    "# update_sales_status(API_TOKEN,'be9c5202-e1ed-4c09-9494-b0aae4642ef9', 'Flexential Parker Data Center', 'Update Status')\n",
    "# update_sales_status(API_TOKEN,'b76cb886-bd27-410c-8979-cd3bde1f581a', 'API Test', 'Lost')"
   ]
  },
  {
   "cell_type": "code",
   "execution_count": 30,
   "id": "4758d865-36d7-4bf7-9b59-beee742e7bd8",
   "metadata": {},
   "outputs": [
    {
     "data": {
      "text/plain": [
       "1    be9c5202-e1ed-4c09-9494-b0aae4642ef9\n",
       "Name: uuid, dtype: object"
      ]
     },
     "execution_count": 30,
     "metadata": {},
     "output_type": "execute_result"
    }
   ],
   "source": [
    "full_df[full_df['name'] == 'Flexential Parker Data Center'][\"uuid\"]"
   ]
  },
  {
   "cell_type": "code",
   "execution_count": null,
   "id": "9c3d7b9c-7958-4a25-9d70-d73a1cd81404",
   "metadata": {},
   "outputs": [],
   "source": [
    "for key, value in json.items():\n",
    "    print(key)"
   ]
  },
  {
   "cell_type": "code",
   "execution_count": 9,
   "id": "ef134ded-8843-45ba-9779-29082cba7e5e",
   "metadata": {},
   "outputs": [
    {
     "data": {
      "text/plain": [
       "463    b76cb886-bd27-410c-8979-cd3bde1f581a\n",
       "Name: uuid, dtype: object"
      ]
     },
     "execution_count": 9,
     "metadata": {},
     "output_type": "execute_result"
    }
   ],
   "source": [
    "df[df['name'] == 'API Test']['uuid']"
   ]
  },
  {
   "cell_type": "markdown",
   "id": "5f9c88dd-a92d-455e-b8fd-7b1a57a80734",
   "metadata": {},
   "source": [
    "## Export to Excel"
   ]
  },
  {
   "cell_type": "code",
   "execution_count": 14,
   "id": "d0c31721-45aa-4479-bbf1-a858eac14316",
   "metadata": {},
   "outputs": [],
   "source": [
    "# make path for each day that the data is compiled \n",
    "end_file = f'followup_data_{str(date.today())}.xlsx'\n",
    "end_path = r\"C:\\Users\\will.davis\\OneDrive - Fiore & Sons, Inc\\1A Data Analysys\\P5 Followup API\\follow_up_data\\{}\".format(end_file)\n",
    "# end_path\n",
    "# create excel for spot checks\n",
    "writer = pd.ExcelWriter(end_path, engine=\"xlsxwriter\")\n",
    "df.to_excel(writer, sheet_name=\"full_df\")\n",
    "# pivot_table.to_excel(writer, sheet_name=\"Pivot\")\n",
    "writer.close()"
   ]
  },
  {
   "cell_type": "markdown",
   "id": "4c3766f9-e05c-4c66-9b67-ec3a4a1ec7a1",
   "metadata": {},
   "source": [
    "# data set of old budgets to become budget loss"
   ]
  },
  {
   "cell_type": "code",
   "execution_count": null,
   "id": "cf5ab286-058d-4a0a-8b17-7e50b61b7972",
   "metadata": {},
   "outputs": [],
   "source": [
    "# data set of old budgets to become budget loss\n",
    "df2 = df\n",
    "df2['bid_date'] = pd.to_datetime(df2['bid_date'], format='%m/%d/%Y')\n",
    "in_range = df2[df2['bid_date'] < pd.to_datetime(\"2024-12-31\")]\n",
    "# I only want budgets\n",
    "just_buds = in_range[in_range['sales_status'] == 'Budget']\n",
    "len(just_buds)\n",
    "# in_range = df[df['']]\n",
    "for ind in range(0,len(just_buds)):\n",
    "    current = just_buds.iloc[ind]\n",
    "    # print(current['uuid'], current['name'])\n",
    "    update_sales_status(API_TOKEN, current['uuid'], current['name'], 'Budget Loss')\n",
    "    print(ind)"
   ]
  },
  {
   "cell_type": "markdown",
   "id": "8ddf6b38-f8a5-401a-8c86-7703840626da",
   "metadata": {},
   "source": [
    "# data set of won jobs to update contract date "
   ]
  },
  {
   "cell_type": "code",
   "execution_count": null,
   "id": "cc7122db-9c74-4359-9ca1-289a9b6b5c76",
   "metadata": {},
   "outputs": [],
   "source": [
    "df3 = df\n",
    "df3['bid_date'] = pd.to_datetime(df3['bid_date'], format='%m/%d/%Y')\n",
    "df3['dead_date'] = pd.to_datetime(df3['dead_date']).dt.date\n",
    "# df3['dead_date'] = df3['dead_date'].astype('datetime64[D]')\n",
    "in_range = df3[df3['bid_date'] < pd.to_datetime(\"2024-10-15\")]\n",
    "# I only want budgets\n",
    "just_wins = in_range[in_range['sales_status'] == 'Won']\n",
    "need_contract_date = just_wins.dropna(subset=['dead_date'])\n",
    "# need_contract_date = just_wins[just_wins['dead_date'] != pd.NaT]\n",
    "print(len(just_wins), len(need_contract_date))\n",
    "for ind in range(0,len(need_contract_date)):\n",
    "    current = need_contract_date.iloc[ind]\n",
    "    # print(current['uuid'], current['name'], str(current['dead_date']))\n",
    "    update_contract_date(API_TOKEN, current['uuid'], current['name'], current['dead_date'])\n",
    "    print(ind)\n"
   ]
  },
  {
   "cell_type": "code",
   "execution_count": 7,
   "id": "e1b1db16-bec0-48f1-8b50-f791e5942eab",
   "metadata": {},
   "outputs": [
    {
     "data": {
      "text/plain": [
       "Index(['id', 'uuid', 'team_id', 'name', 'address', 'city', 'state', 'zip',\n",
       "       'sales_behaviours', 'account_manager', 'estimator', 'companies',\n",
       "       'proposal_delivered', 'sales_status', 'office', 'Lead_From',\n",
       "       'contract_amount', 'base_bid', 'contract_date', 'contract_type',\n",
       "       'bid_date', 'last_update', 'created_at', 'external_id',\n",
       "       'external_vendor', 'custom_fields', 'notes', 'outlook_conversation_id',\n",
       "       'estimated_contract_date', 'gross_margin_percentage', 'labor_hours',\n",
       "       'dead_date', 'marketing_status', 'pre_bid', 'take_off_person',\n",
       "       'products_and_services', 'client_profile', 'relate_and_connect',\n",
       "       'rules_of_engagement', 'find_problems', 'money_step',\n",
       "       'decision_process', 'change_orders', 'record_detail_custom_fields',\n",
       "       'contact.name', 'contact.phone', 'contact.fax', 'contact.cell',\n",
       "       'contact.email'],\n",
       "      dtype='object')"
      ]
     },
     "execution_count": 7,
     "metadata": {},
     "output_type": "execute_result"
    }
   ],
   "source": [
    "df.columns"
   ]
  },
  {
   "cell_type": "code",
   "execution_count": null,
   "id": "ae043216-ee96-4a4e-ba88-8d2de014ee58",
   "metadata": {},
   "outputs": [],
   "source": []
  }
 ],
 "metadata": {
  "kernelspec": {
   "display_name": "Python 3 (ipykernel)",
   "language": "python",
   "name": "python3"
  },
  "language_info": {
   "codemirror_mode": {
    "name": "ipython",
    "version": 3
   },
   "file_extension": ".py",
   "mimetype": "text/x-python",
   "name": "python",
   "nbconvert_exporter": "python",
   "pygments_lexer": "ipython3",
   "version": "3.12.7"
  }
 },
 "nbformat": 4,
 "nbformat_minor": 5
}
