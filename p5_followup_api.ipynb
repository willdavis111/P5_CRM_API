{
 "cells": [
  {
   "cell_type": "code",
   "execution_count": 1,
   "id": "4ee5b3cd-a92d-4e0a-a80a-650cf87514a8",
   "metadata": {},
   "outputs": [],
   "source": [
    "import pandas as pd\n",
    "import numpy as np\n",
    "import datetime as dt\n",
    "from datetime import date\n",
    "import os\n",
    "import requests\n",
    "import json\n",
    "API_TOKEN  = r\"GRjdYvo48gh7lYepaYgUTVtknrzqdXeuBWHyQPdzlVoMC6e3874VHwQQzw6k\"\n",
    "\n",
    "# PUT requests to change the sales status of existiong jobs\n",
    "def update_sales_status(API_TOKEN, uuid, name, status):\n",
    "    url = f'https://app.followupcrm.com/api/v1/file-data/{uuid}'\n",
    "    params = {\n",
    "        'api_token': API_TOKEN,\n",
    "    }\n",
    "    payload =  {\n",
    "        'name': name,\n",
    "        \"external_id\": None,\n",
    "        \"external_vendor\": None,\n",
    "        \"sales_status\": status\n",
    "    }\n",
    "    response = requests.put(url, params=params, data = payload)\n",
    "    if response.status_code == 200:\n",
    "        json_data = response.json()\n",
    "        df = pd.json_normalize(json_data['data'])\n",
    "    else:\n",
    "        print(f\"Error {response.status_code}: {response.text}\")\n",
    "\n",
    "# PUT requests to change the contract date\n",
    "def update_contract_date(API_TOKEN, uuid, name, new_date):\n",
    "    url = f'https://app.followupcrm.com/api/v1/file-data/{uuid}'\n",
    "    params = {\n",
    "        'api_token': API_TOKEN,\n",
    "    }\n",
    "    payload =  {\n",
    "        'name': name,\n",
    "        \"external_id\": None,\n",
    "        \"external_vendor\": None,\n",
    "        'contract_date': new_date\n",
    "    }\n",
    "    response = requests.put(url, params=params, data = payload)\n",
    "    if response.status_code == 200:\n",
    "        json_data = response.json()\n",
    "        df = pd.json_normalize(json_data['data'])\n",
    "    else:\n",
    "        print(f\"Error {response.status_code}: {response.text}\")\n",
    "#creat df from data stored in followup\n",
    "def get_df(API_TOKEN, page):\n",
    "    # url = 'https://app.followupcrm.com/api/v1/file-data'\n",
    "    url = f'https://app.followupcrm.com/api/v1/file-data?page={page}'\n",
    "    params = {\n",
    "        'api_token': API_TOKEN,\n",
    "        'per_page': 15\n",
    "    }\n",
    "    response = requests.get(url, params=params)\n",
    "    if response.status_code == 200:\n",
    "        json_data = response.json()\n",
    "        df = pd.json_normalize(json_data['data'])\n",
    "        # print(len(df))\n",
    "        return df, json_data\n",
    "    else:\n",
    "        print(f\"Error {response.status_code}: {response.text}\")\n",
    "# creat and return a subset based on age of the bid and list of sales statuses \n",
    "def reduce_dataset(full_df, d_count, status_list):\n",
    "    full_df['bid_date'] = pd.to_datetime(full_df['bid_date'])\n",
    "    reduced = full_df[full_df['sales_status'].isin(status_list)]\n",
    "    reduced = reduced.assign(time_passed = lambda x: pd.Timestamp(date.today()) - x['bid_date'])\n",
    "    reduced['notify'] = reduced['time_passed'].apply(lambda y: 1 if y > pd.Timedelta(f'{d_count} days 00:00:00') else 0)\n",
    "    notify = reduced[reduced['notify'] == 1]\n",
    "    return notify\n",
    "# subset if specified column is NA \n",
    "def missing_value(full_df, field):\n",
    "    reduced = full_df[full_df[field].isna()]\n",
    "    return reduced\n",
    "\n",
    "# formated strings for emails\n",
    "\n",
    "def fill_string1(estimator, project_name, current_status, days_past, contact, cell, email):\n",
    "    status_past_due = f\"\"\"\n",
    "    What's up, {estimator},\n",
    "    \n",
    "    It appears {project_name} has had the status of {current_status} for {days_past} past the bid date.\n",
    "    \n",
    "    Please consider updating this status or call {contact}'s cell({cell})' or email {email}.\n",
    "    \n",
    "    This message will repeat weekly until changes are made.\n",
    "    \n",
    "    Thank you!\n",
    "    Fiore-up\"\"\"\n",
    "    return status_past_due\n",
    "def fill_strin2(estimator, project_name):\n",
    "    no_bid_date = f\"\"\"\n",
    "    What's up, {estimator},\n",
    "    \n",
    "    It appears {project_name} doesn't have a bid date, please update this in follow-up.\n",
    "    \n",
    "    This message will repeat weekly until changes are made.\n",
    "    \n",
    "    Thank you!\n",
    "    Fiore-up\"\"\"\n",
    "    return no_bid_date\n",
    "\n",
    "def status_notify(df):\n",
    "    for ind in range(0,len(df)):\n",
    "        current = df.iloc[ind]\n",
    "        estimator, project_name, current_status, days_past, contact, cell, email = current['estimator'],current['name'], current['sales_status'], current['time_passed'], current['contact.name'],current['contact.cell'],current['contact.email']\n",
    "        f_string = fill_string1(estimator, project_name, current_status, days_past, contact, cell, email)\n",
    "        # email send aspect\n",
    "    print(f_string)\n",
    "\n",
    "def bid_date_notify(df):\n",
    "    for ind in range(0,len(df)):\n",
    "        current = df.iloc[ind]\n",
    "        estimator, project_name, current_status, days_past, contact, cell, email = current['estimator'],current['name'], current['sales_status'], current['time_passed'], current['contact.name'],current['contact.cell'],current['contact.email']\n",
    "        f_string = fill_string2(estimator, project_name)\n",
    "        # email send aspect\n",
    "    print(f_string)\n",
    "\n",
    "\n",
    "fiore_contacts = pd.DataFrame.from_dict({'estimator':['Al Barker', 'Angie Cole', 'Conner Spinar', 'Garrett  Hammers', 'Jaime Astorga', 'Joel Holland',\"Neil O'Grady\", 'Rob Slauson', 'Ryan Frank', 'Sara Locke', 'Stephen Ceresa', 'Trevor Lepke', 'Will Davis', 'Will Mcclure'\n",
    "], 'est_email': [ 'abarker@fioreandsons.com', 'angie.cole@fioreandsons.com', 'conner.spinar@fioreandsons.com', 'ghammers@fioreandsons.com', 'jaime.astorga@fioreandsons.com','jholland@fioreandsons.com', 'nogrady@fioreandsons.com', 'rslauson@fioreandsons.com', 'rfrank@fioreandsons.com', 'sara.locke@fioreandsons.com', 'stephen.ceresa@fioreandsons.com', 'trevor.lepke@fioreandsons.com', 'will.davis@fioreandsons.com', 'wmcclure@fioreandsons.com',\n",
    "]})"
   ]
  },
  {
   "cell_type": "code",
   "execution_count": 3,
   "id": "bf5979cb-d620-4766-864f-58d7f162f08a",
   "metadata": {},
   "outputs": [
    {
     "name": "stdout",
     "output_type": "stream",
     "text": [
      "CPU times: total: 312 ms\n",
      "Wall time: 54.2 s\n"
     ]
    }
   ],
   "source": [
    "%%time\n",
    "# creates a dataframe of all jobs in followup(pulled from API)\n",
    "df_list = []\n",
    "json = get_df(API_TOKEN, 1)[1]\n",
    "last_page = json['meta']['last_page']\n",
    "for i in range(1,last_page+1):\n",
    "    df_list.append(get_df(API_TOKEN, i)[0])\n",
    "# combine dfs\n",
    "full_df = pd.concat(df_list)\n",
    "reference = full_df\n",
    "#merge with df of estimators emails\n",
    "full_df = full_df.merge(fiore_contacts, on='estimator')\n",
    "# subsets to trigger notifications\n",
    "submits = reduce_dataset(full_df, '14', [\"Bidding\",\"New Lead\",\"Submitted\"])\n",
    "budgets = reduce_dataset(full_df, '90', [\"Budget\"])\n",
    "no_bid_date = missing_value(full_df, 'bid_date')"
   ]
  },
  {
   "cell_type": "code",
   "execution_count": null,
   "id": "de21682b-8a15-4b60-af00-7005e13235cd",
   "metadata": {},
   "outputs": [],
   "source": [
    "full_df = full_df[['name', 'estimator', 'sales_status', 'bid_date', ]]"
   ]
  },
  {
   "cell_type": "code",
   "execution_count": 13,
   "id": "15faabd9-85c0-432c-86f4-8d711662cf4d",
   "metadata": {},
   "outputs": [
    {
     "data": {
      "text/plain": [
       "' \\ntesting out the spacing\\nbelow:\\n                                                  name\\n76                    1565 Colorado 155 Unit Apartment\\n99                                 Sixt Rent-A-Car DIA\\n115  Westminster Municipal Court & Community Reach ...\\n145                 Gatherings at Parker - Life Church\\n165                               Walmart Fuel Station\\n186               US 85 Resurfacing: I-76 To 124th Ave\\n187  Brighton High School Student Parking Lot Repla...\\n190                            Brakes Plus Westminster\\n193                          CCD 51st Ave Improvements\\n343               Adams County 2025 Street Resurfacing\\n450  Westminster Municipal Court & Community Reach ...\\n451                           Uplands Filing 1 Block 3\\n\\nhhsdflakshfasdhihgf\\nsajfsdjsadj\\n'"
      ]
     },
     "execution_count": 13,
     "metadata": {},
     "output_type": "execute_result"
    }
   ],
   "source": [
    "# test f strings\n",
    "test_df = submits[submits['estimator']== 'Conner Spinar']\n",
    "test_df = test_df[['name']]\n",
    "test_f = f\"\"\" \n",
    "testing out the spacing\n",
    "below:\n",
    "{test_df}\n",
    "\n",
    "hhsdflakshfasdhihgf\n",
    "sajfsdjsadj\n",
    "\"\"\"\n",
    "test_f"
   ]
  },
  {
   "cell_type": "code",
   "execution_count": 29,
   "id": "e030287f-99c0-4e9a-92e4-112b8f5ead7b",
   "metadata": {},
   "outputs": [
    {
     "name": "stderr",
     "output_type": "stream",
     "text": [
      "C:\\Users\\will.davis\\AppData\\Local\\Temp\\ipykernel_25028\\1972325380.py:2: SettingWithCopyWarning: \n",
      "A value is trying to be set on a copy of a slice from a DataFrame.\n",
      "Try using .loc[row_indexer,col_indexer] = value instead\n",
      "\n",
      "See the caveats in the documentation: https://pandas.pydata.org/pandas-docs/stable/user_guide/indexing.html#returning-a-view-versus-a-copy\n",
      "  test_df['str'] = test_df['name'] + ' , ' + test_df['sales_status'] + ' , ' + test_df['time_passed'].astype(str)\n"
     ]
    }
   ],
   "source": [
    "test_df = submits[submits['estimator']== 'Conner Spinar']\n",
    "test_df['str'] = test_df['name'] + ' , ' + test_df['sales_status'] + ' , ' + test_df['time_passed'].astype(str)\n",
    "test_str = list(test_df['str'])\n",
    "# new_str = (repr(test_str).replace(',', ',\\n'))\n",
    "formatted_string = \"\\n\".join(test_str)"
   ]
  },
  {
   "cell_type": "code",
   "execution_count": 30,
   "id": "7436b06c-433b-488a-9de3-f7fb0cf20247",
   "metadata": {},
   "outputs": [
    {
     "name": "stdout",
     "output_type": "stream",
     "text": [
      " \n",
      "testing out the spacing\n",
      "below:\n",
      "1565 Colorado 155 Unit Apartment , Submitted , 109 days\n",
      "Sixt Rent-A-Car DIA , Submitted , 91 days\n",
      "Westminster Municipal Court & Community Reach Center , Submitted , 69 days\n",
      "Gatherings at Parker - Life Church , Submitted , 56 days\n",
      "Walmart Fuel Station , Submitted , 56 days\n",
      "US 85 Resurfacing: I-76 To 124th Ave , Submitted , 55 days\n",
      "Brighton High School Student Parking Lot Replacement , Submitted , 53 days\n",
      "Brakes Plus Westminster , Submitted , 48 days\n",
      "CCD 51st Ave Improvements , Submitted , 38 days\n",
      "Adams County 2025 Street Resurfacing , Submitted , 46 days\n",
      "Westminster Municipal Court & Community Reach Center , Submitted , 18 days\n",
      "Uplands Filing 1 Block 3 , Submitted , 18 days\n",
      "\n",
      "hhsdflakshfasdhihgf\n",
      "sajfsdjsadj\n",
      "\n"
     ]
    }
   ],
   "source": [
    "test_f = f\"\"\" \n",
    "testing out the spacing\n",
    "below:\n",
    "{formatted_string}\n",
    "\n",
    "hhsdflakshfasdhihgf\n",
    "sajfsdjsadj\n",
    "\"\"\"\n",
    "print(test_f)"
   ]
  },
  {
   "cell_type": "code",
   "execution_count": null,
   "id": "cbd5f502-8a74-4137-b64a-46fb8e978047",
   "metadata": {},
   "outputs": [],
   "source": []
  },
  {
   "cell_type": "code",
   "execution_count": 41,
   "id": "fdee9c46-d060-40c7-9bdc-03baac28acfd",
   "metadata": {},
   "outputs": [
    {
     "name": "stdout",
     "output_type": "stream",
     "text": [
      "\n",
      "    Greetings, Ryan Frank,\n",
      "    \n",
      "    It appears Project Red Hawk has had the status of Submitted for 25 days 00:00:00 past the bid date.\n",
      "    \n",
      "    Please consider updating this status or call Trenton Reynolds's cell()' or email trenton.reynolds@catamountinc.com.\n",
      "    \n",
      "    This message will repeat weekly until changes are made.\n",
      "    \n",
      "    Thank you!\n",
      "    Fiore-up\n"
     ]
    }
   ],
   "source": [
    "# change subset to status update to notify people\n",
    "# for ind in range(0,len(submits)):\n",
    "#     current = submits.iloc[ind]\n",
    "#     estimator, project_name, current_status, days_past, contact, cell, email = current['estimator'],current['name'], current['sales_status'], current['time_passed'], current['contact.name'],current['contact.cell'],current['contact.email']\n",
    "#     f_string = fill_string1(estimator, project_name, current_status, days_past, contact, cell, email)\n",
    "# print(f_string)\n",
    "status_notify(submits)"
   ]
  },
  {
   "cell_type": "markdown",
   "id": "5f9c88dd-a92d-455e-b8fd-7b1a57a80734",
   "metadata": {},
   "source": [
    "## Export to Excel (should run monthly)"
   ]
  },
  {
   "cell_type": "code",
   "execution_count": 19,
   "id": "d0c31721-45aa-4479-bbf1-a858eac14316",
   "metadata": {},
   "outputs": [],
   "source": [
    "# make path for each day that the data is compiled \n",
    "end_file = f'followup_data_{str(date.today())}.xlsx'\n",
    "end_path = r\"C:\\Users\\will.davis\\OneDrive - Fiore & Sons, Inc\\1A Data Analysys\\P5 Followup API\\follow_up_data\\{}\".format(end_file)\n",
    "# create excel for record keeping\n",
    "writer = pd.ExcelWriter(end_path, engine=\"xlsxwriter\")\n",
    "reference.to_excel(writer, sheet_name=\"full_df\")\n",
    "# pivot_table.to_excel(writer, sheet_name=\"Pivot\")\n",
    "writer.close()"
   ]
  },
  {
   "cell_type": "markdown",
   "id": "4c3766f9-e05c-4c66-9b67-ec3a4a1ec7a1",
   "metadata": {},
   "source": [
    "# data set of old budgets to become budget loss"
   ]
  },
  {
   "cell_type": "code",
   "execution_count": null,
   "id": "cf5ab286-058d-4a0a-8b17-7e50b61b7972",
   "metadata": {},
   "outputs": [],
   "source": [
    "# data set of old budgets to become budget loss\n",
    "df2 = df\n",
    "df2['bid_date'] = pd.to_datetime(df2['bid_date'], format='%m/%d/%Y')\n",
    "in_range = df2[df2['bid_date'] < pd.to_datetime(\"2024-12-31\")]\n",
    "# I only want budgets\n",
    "just_buds = in_range[in_range['sales_status'] == 'Budget']\n",
    "len(just_buds)\n",
    "# in_range = df[df['']]\n",
    "for ind in range(0,len(just_buds)):\n",
    "    current = just_buds.iloc[ind]\n",
    "    # print(current['uuid'], current['name'])\n",
    "    update_sales_status(API_TOKEN, current['uuid'], current['name'], 'Budget Loss')\n",
    "    print(ind)"
   ]
  },
  {
   "cell_type": "markdown",
   "id": "8ddf6b38-f8a5-401a-8c86-7703840626da",
   "metadata": {},
   "source": [
    "# data set of won jobs to update contract date "
   ]
  },
  {
   "cell_type": "code",
   "execution_count": null,
   "id": "cc7122db-9c74-4359-9ca1-289a9b6b5c76",
   "metadata": {},
   "outputs": [],
   "source": [
    "df3 = df\n",
    "df3['bid_date'] = pd.to_datetime(df3['bid_date'], format='%m/%d/%Y')\n",
    "df3['dead_date'] = pd.to_datetime(df3['dead_date']).dt.date\n",
    "# df3['dead_date'] = df3['dead_date'].astype('datetime64[D]')\n",
    "in_range = df3[df3['bid_date'] < pd.to_datetime(\"2024-10-15\")]\n",
    "# I only want budgets\n",
    "just_wins = in_range[in_range['sales_status'] == 'Won']\n",
    "need_contract_date = just_wins.dropna(subset=['dead_date'])\n",
    "# need_contract_date = just_wins[just_wins['dead_date'] != pd.NaT]\n",
    "print(len(just_wins), len(need_contract_date))\n",
    "for ind in range(0,len(need_contract_date)):\n",
    "    current = need_contract_date.iloc[ind]\n",
    "    # print(current['uuid'], current['name'], str(current['dead_date']))\n",
    "    update_contract_date(API_TOKEN, current['uuid'], current['name'], current['dead_date'])\n",
    "    print(ind)\n"
   ]
  },
  {
   "cell_type": "code",
   "execution_count": 7,
   "id": "e1b1db16-bec0-48f1-8b50-f791e5942eab",
   "metadata": {},
   "outputs": [
    {
     "data": {
      "text/plain": [
       "Index(['id', 'uuid', 'team_id', 'name', 'address', 'city', 'state', 'zip',\n",
       "       'sales_behaviours', 'account_manager', 'estimator', 'companies',\n",
       "       'proposal_delivered', 'sales_status', 'office', 'Lead_From',\n",
       "       'contract_amount', 'base_bid', 'contract_date', 'contract_type',\n",
       "       'bid_date', 'last_update', 'created_at', 'external_id',\n",
       "       'external_vendor', 'custom_fields', 'notes', 'outlook_conversation_id',\n",
       "       'estimated_contract_date', 'gross_margin_percentage', 'labor_hours',\n",
       "       'dead_date', 'marketing_status', 'pre_bid', 'take_off_person',\n",
       "       'products_and_services', 'client_profile', 'relate_and_connect',\n",
       "       'rules_of_engagement', 'find_problems', 'money_step',\n",
       "       'decision_process', 'change_orders', 'record_detail_custom_fields',\n",
       "       'contact.name', 'contact.phone', 'contact.fax', 'contact.cell',\n",
       "       'contact.email'],\n",
       "      dtype='object')"
      ]
     },
     "execution_count": 7,
     "metadata": {},
     "output_type": "execute_result"
    }
   ],
   "source": [
    "df.columns"
   ]
  }
 ],
 "metadata": {
  "kernelspec": {
   "display_name": "Python 3 (ipykernel)",
   "language": "python",
   "name": "python3"
  },
  "language_info": {
   "codemirror_mode": {
    "name": "ipython",
    "version": 3
   },
   "file_extension": ".py",
   "mimetype": "text/x-python",
   "name": "python",
   "nbconvert_exporter": "python",
   "pygments_lexer": "ipython3",
   "version": "3.12.7"
  }
 },
 "nbformat": 4,
 "nbformat_minor": 5
}
