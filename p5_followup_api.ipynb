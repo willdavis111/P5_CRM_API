{
 "cells": [
  {
   "cell_type": "code",
   "execution_count": 5,
   "id": "24a07d65-0269-4417-a186-c1e7b3c2ee20",
   "metadata": {},
   "outputs": [],
   "source": [
    "import pandas as pd\n",
    "import numpy as np\n",
    "import datetime as dt\n",
    "from datetime import date\n",
    "import os\n",
    "import requests\n",
    "import json\n",
    "API_TOKEN  = r''"
   ]
  },
  {
   "cell_type": "code",
   "execution_count": 9,
   "id": "4ee5b3cd-a92d-4e0a-a80a-650cf87514a8",
   "metadata": {},
   "outputs": [],
   "source": [
    "# PUT requests to change the sales status of existiong jobs\n",
    "def update_sales_status(API_TOKEN, uuid, name, status):\n",
    "    url = f'https://app.followupcrm.com/api/v1/file-data/{uuid}'\n",
    "    params = {\n",
    "        'api_token': API_TOKEN,\n",
    "    }\n",
    "    payload =  {\n",
    "        'name': name,\n",
    "        \"external_id\": None,\n",
    "        \"external_vendor\": None,\n",
    "        \"sales_status\": status\n",
    "    }\n",
    "    response = requests.put(url, params=params, data = payload)\n",
    "    if response.status_code == 200:\n",
    "        json_data = response.json()\n",
    "        df = pd.json_normalize(json_data['data'])\n",
    "    else:\n",
    "        print(f\"Error {response.status_code}: {response.text}\")\n",
    "\n",
    "# PUT requests to change the contract date\n",
    "def update_contract_date(API_TOKEN, uuid, name, new_date):\n",
    "    url = f'https://app.followupcrm.com/api/v1/file-data/{uuid}'\n",
    "    params = {\n",
    "        'api_token': API_TOKEN,\n",
    "    }\n",
    "    payload =  {\n",
    "        'name': name,\n",
    "        \"external_id\": None,\n",
    "        \"external_vendor\": None,\n",
    "        'contract_date': new_date\n",
    "    }\n",
    "    response = requests.put(url, params=params, data = payload)\n",
    "    if response.status_code == 200:\n",
    "        json_data = response.json()\n",
    "        df = pd.json_normalize(json_data['data'])\n",
    "    else:\n",
    "        print(f\"Error {response.status_code}: {response.text}\")\n",
    "#creat df from data stored in followup\n",
    "def get_df(API_TOKEN, Range):\n",
    "    url = 'https://app.followupcrm.com/api/v1/file-data'\n",
    "    params = {\n",
    "        'api_token': API_TOKEN,\n",
    "        'per_page': Range\n",
    "    }\n",
    "    response = requests.get(url, params=params)\n",
    "    if response.status_code == 200:\n",
    "        json_data = response.json()\n",
    "        df = pd.json_normalize(json_data['data'])\n",
    "        print(len(df))\n",
    "        return df\n",
    "    else:\n",
    "        print(f\"Error {response.status_code}: {response.text}\")\n"
   ]
  },
  {
   "cell_type": "code",
   "execution_count": 15,
   "id": "bf5979cb-d620-4766-864f-58d7f162f08a",
   "metadata": {},
   "outputs": [
    {
     "name": "stdout",
     "output_type": "stream",
     "text": [
      "470\n"
     ]
    }
   ],
   "source": [
    "df = get_df(API_TOKEN, 2000)"
   ]
  },
  {
   "cell_type": "code",
   "execution_count": 12,
   "id": "ef134ded-8843-45ba-9779-29082cba7e5e",
   "metadata": {},
   "outputs": [
    {
     "data": {
      "text/plain": [
       "463    b76cb886-bd27-410c-8979-cd3bde1f581a\n",
       "Name: uuid, dtype: object"
      ]
     },
     "execution_count": 12,
     "metadata": {},
     "output_type": "execute_result"
    }
   ],
   "source": [
    "df[df['name'] == 'API Test']['uuid']"
   ]
  },
  {
   "cell_type": "code",
   "execution_count": 13,
   "id": "24b7e7db-d7cd-4e5c-b168-8d279430bab8",
   "metadata": {},
   "outputs": [],
   "source": [
    "update_sales_status(API_TOKEN,'b76cb886-bd27-410c-8979-cd3bde1f581a', 'API Test', 'API Test')"
   ]
  },
  {
   "cell_type": "code",
   "execution_count": null,
   "id": "e53cdec2-b7ad-469f-bf92-3a76e8c88908",
   "metadata": {},
   "outputs": [],
   "source": []
  },
  {
   "cell_type": "code",
   "execution_count": null,
   "id": "52de2c37-2431-487a-af3d-096e9e6a2972",
   "metadata": {},
   "outputs": [],
   "source": []
  },
  {
   "cell_type": "code",
   "execution_count": null,
   "id": "d0c31721-45aa-4479-bbf1-a858eac14316",
   "metadata": {},
   "outputs": [],
   "source": []
  },
  {
   "cell_type": "code",
   "execution_count": null,
   "id": "f0506352-8594-47aa-bb6f-d97fe4445643",
   "metadata": {},
   "outputs": [],
   "source": []
  },
  {
   "cell_type": "code",
   "execution_count": null,
   "id": "10c2c98c-5dd9-4a1a-ada9-4900d2e6e331",
   "metadata": {},
   "outputs": [],
   "source": []
  },
  {
   "cell_type": "code",
   "execution_count": null,
   "id": "02eadb70-2b0d-44c5-8981-306cc756e417",
   "metadata": {},
   "outputs": [],
   "source": []
  },
  {
   "cell_type": "code",
   "execution_count": null,
   "id": "3ef96234-8199-4578-9783-3649eab48b84",
   "metadata": {},
   "outputs": [],
   "source": []
  },
  {
   "cell_type": "code",
   "execution_count": null,
   "id": "3ffa4e28-fa25-42f4-bbd4-33f777187c69",
   "metadata": {},
   "outputs": [],
   "source": []
  },
  {
   "cell_type": "code",
   "execution_count": null,
   "id": "7064e316-573a-4594-a397-58ffa5ed75d0",
   "metadata": {},
   "outputs": [],
   "source": []
  },
  {
   "cell_type": "code",
   "execution_count": null,
   "id": "cf5ab286-058d-4a0a-8b17-7e50b61b7972",
   "metadata": {},
   "outputs": [],
   "source": [
    "# data set of old budgets to become \n",
    "df2 = df\n",
    "df2['bid_date'] = pd.to_datetime(df2['bid_date'], format='%m/%d/%Y')\n",
    "in_range = df2[df2['bid_date'] < pd.to_datetime(\"2024-12-31\")]\n",
    "# I only want budgets\n",
    "just_buds = in_range[in_range['sales_status'] == 'Budget']\n",
    "len(just_buds)\n",
    "# in_range = df[df['']]\n",
    "for ind in range(0,len(just_buds)):\n",
    "    current = just_buds.iloc[ind]\n",
    "    # print(current['uuid'], current['name'])\n",
    "    update_sales_status(API_TOKEN, current['uuid'], current['name'], 'Budget Loss')\n",
    "    print(ind)"
   ]
  },
  {
   "cell_type": "code",
   "execution_count": null,
   "id": "cc7122db-9c74-4359-9ca1-289a9b6b5c76",
   "metadata": {},
   "outputs": [],
   "source": [
    "df3 = df\n",
    "df3['bid_date'] = pd.to_datetime(df3['bid_date'], format='%m/%d/%Y')\n",
    "df3['dead_date'] = pd.to_datetime(df3['dead_date']).dt.date\n",
    "# df3['dead_date'] = df3['dead_date'].astype('datetime64[D]')\n",
    "in_range = df3[df3['bid_date'] < pd.to_datetime(\"2024-10-15\")]\n",
    "# I only want budgets\n",
    "just_wins = in_range[in_range['sales_status'] == 'Won']\n",
    "need_contract_date = just_wins.dropna(subset=['dead_date'])\n",
    "# need_contract_date = just_wins[just_wins['dead_date'] != pd.NaT]\n",
    "print(len(just_wins), len(need_contract_date))\n",
    "for ind in range(0,len(need_contract_date)):\n",
    "    current = need_contract_date.iloc[ind]\n",
    "    # print(current['uuid'], current['name'], str(current['dead_date']))\n",
    "    update_contract_date(API_TOKEN, current['uuid'], current['name'], current['dead_date'])\n",
    "    print(ind)\n"
   ]
  },
  {
   "cell_type": "code",
   "execution_count": null,
   "id": "29f4c2ee-14f1-4288-af91-ed4077f00e77",
   "metadata": {},
   "outputs": [],
   "source": [
    "# creat a test subset \n",
    "test_subset = need_contract_date[0:5] \n",
    "test_subset"
   ]
  },
  {
   "cell_type": "code",
   "execution_count": 97,
   "id": "7b487b12-d328-4352-8229-234877e2668c",
   "metadata": {},
   "outputs": [
    {
     "name": "stdout",
     "output_type": "stream",
     "text": [
      "464\n",
      "CPU times: total: 62.5 ms\n",
      "Wall time: 59.4 s\n"
     ]
    }
   ],
   "source": [
    "%%time \n",
    "# data set of projects from followup crm\n",
    "\n",
    "url = 'https://app.followupcrm.com/api/v1/file-data'\n",
    "params = {\n",
    "    'api_token': API_TOKEN,\n",
    "    'per_page': 465\n",
    "}\n",
    " \n",
    "response = requests.get(url, params=params)\n",
    " \n",
    "if response.status_code == 200:\n",
    "    # print(\"Data:\")\n",
    "   \n",
    "    json_data = response.json()\n",
    "    df = pd.json_normalize(json_data['data'])\n",
    "    print(len(df))\n",
    " \n",
    "else:\n",
    "    print(f\"Error {response.status_code}: {response.text}\")"
   ]
  },
  {
   "cell_type": "code",
   "execution_count": 7,
   "id": "e1b1db16-bec0-48f1-8b50-f791e5942eab",
   "metadata": {},
   "outputs": [
    {
     "data": {
      "text/plain": [
       "Index(['id', 'uuid', 'team_id', 'name', 'address', 'city', 'state', 'zip',\n",
       "       'sales_behaviours', 'account_manager', 'estimator', 'companies',\n",
       "       'proposal_delivered', 'sales_status', 'office', 'Lead_From',\n",
       "       'contract_amount', 'base_bid', 'contract_date', 'contract_type',\n",
       "       'bid_date', 'last_update', 'created_at', 'external_id',\n",
       "       'external_vendor', 'custom_fields', 'notes', 'outlook_conversation_id',\n",
       "       'estimated_contract_date', 'gross_margin_percentage', 'labor_hours',\n",
       "       'dead_date', 'marketing_status', 'pre_bid', 'take_off_person',\n",
       "       'products_and_services', 'client_profile', 'relate_and_connect',\n",
       "       'rules_of_engagement', 'find_problems', 'money_step',\n",
       "       'decision_process', 'change_orders', 'record_detail_custom_fields',\n",
       "       'contact.name', 'contact.phone', 'contact.fax', 'contact.cell',\n",
       "       'contact.email'],\n",
       "      dtype='object')"
      ]
     },
     "execution_count": 7,
     "metadata": {},
     "output_type": "execute_result"
    }
   ],
   "source": [
    "df.columns"
   ]
  },
  {
   "cell_type": "code",
   "execution_count": null,
   "id": "ae043216-ee96-4a4e-ba88-8d2de014ee58",
   "metadata": {},
   "outputs": [],
   "source": []
  }
 ],
 "metadata": {
  "kernelspec": {
   "display_name": "Python 3 (ipykernel)",
   "language": "python",
   "name": "python3"
  },
  "language_info": {
   "codemirror_mode": {
    "name": "ipython",
    "version": 3
   },
   "file_extension": ".py",
   "mimetype": "text/x-python",
   "name": "python",
   "nbconvert_exporter": "python",
   "pygments_lexer": "ipython3",
   "version": "3.12.7"
  }
 },
 "nbformat": 4,
 "nbformat_minor": 5
}
